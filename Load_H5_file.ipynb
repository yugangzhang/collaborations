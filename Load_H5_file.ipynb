{
 "cells": [
  {
   "cell_type": "code",
   "execution_count": 3,
   "metadata": {},
   "outputs": [],
   "source": [
    "import h5py\n",
    "import pandas as pds \n",
    "import numpy as np"
   ]
  },
  {
   "cell_type": "code",
   "execution_count": null,
   "metadata": {},
   "outputs": [],
   "source": []
  },
  {
   "cell_type": "code",
   "execution_count": null,
   "metadata": {},
   "outputs": [],
   "source": []
  },
  {
   "cell_type": "code",
   "execution_count": 46,
   "metadata": {},
   "outputs": [],
   "source": [
    "def load_chx_h5(  fileanme ):\n",
    "    '''May 5, 2020 Yugang devleoped for Mike at LBL to load the h5 data format\n",
    "    Input:\n",
    "        filename: the full data path\n",
    "    Output:\n",
    "        taus, 1d array, the time delay for the one-time correlation function\n",
    "        g2: 2d array, one-time correlation function, shape is [number of time dalay, number of q]\n",
    "        g12: 3d array, two-time correlation function, \n",
    "             shape is [number of frame, number of frame,  number of q]\n",
    "        att: float sclar, the attenuation of X- \n",
    "        exp: float, exposure time of each frame (in second)\n",
    "        N: the frame number in a time-series\n",
    "        qr: 1d array, the values of the interested q    \n",
    "    \n",
    "    '''\n",
    "    \n",
    "    \n",
    "    with h5py.File( filename, 'r') as hf:  \n",
    "        #list all the available keys\n",
    "        #print( list(hf.keys() ))\n",
    "        #get the g2 - one time correlation function\n",
    "        g2 = hf.get( 'g2'  )[:] \n",
    "        # get the tau of g2\n",
    "        taus = hf.get( 'taus'  )[:] \n",
    "        #get the two time correlation function\n",
    "        g12 =  hf.get( 'g12b'  )[:] \n",
    "        # get metadata\n",
    "        md = {}\n",
    "        M = hf.get('md')\n",
    "        for key in list(M.attrs):\n",
    "            md[key] = M.attrs[key]  \n",
    "        att =     md['transmission']\n",
    "        exp =  float( md['exposure time'] )\n",
    "        N = md[ 'cam_num_images' ] \n",
    "        qr = md['qr']\n",
    "        return taus, g2, g12, att, exp, N , qr\n",
    "    \n",
    "    \n",
    "    "
   ]
  },
  {
   "cell_type": "markdown",
   "metadata": {},
   "source": [
    "# An example"
   ]
  },
  {
   "cell_type": "markdown",
   "metadata": {},
   "source": [
    "## giving the filanme here"
   ]
  },
  {
   "cell_type": "code",
   "execution_count": 47,
   "metadata": {},
   "outputs": [],
   "source": [
    "inDir  = '/nsls2/xf11id1/analysis/2019_2/yuzhang/CHs/Results/H5/Sam11_Ca/'\n",
    "fp = 'uid=358c3e41-31b0-4f4e-9271-fcf0496ca892_rings_Res.h5'\n",
    "\n",
    "\n",
    "filename = inDir + fp "
   ]
  },
  {
   "cell_type": "markdown",
   "metadata": {},
   "source": [
    "## Load the h5 file"
   ]
  },
  {
   "cell_type": "code",
   "execution_count": 44,
   "metadata": {},
   "outputs": [],
   "source": [
    "\n",
    "taus, g2, g12, att, exp, N , qr  = load_chx_h5(  fileanme )"
   ]
  },
  {
   "cell_type": "code",
   "execution_count": null,
   "metadata": {},
   "outputs": [],
   "source": []
  },
  {
   "cell_type": "markdown",
   "metadata": {},
   "source": [
    "## Check some results"
   ]
  },
  {
   "cell_type": "code",
   "execution_count": 37,
   "metadata": {},
   "outputs": [
    {
     "data": {
      "text/plain": [
       "array([0.        , 0.00134   , 0.00268   , 0.00402   , 0.00536   ,\n",
       "       0.0067    , 0.00804   , 0.00938   , 0.01072   , 0.0134    ,\n",
       "       0.01608   , 0.01876   , 0.02144   , 0.0268    , 0.03216   ,\n",
       "       0.03752   , 0.04288   , 0.0536    , 0.06432   , 0.07504   ,\n",
       "       0.08576   , 0.1072    , 0.12864   , 0.15008   , 0.17151999,\n",
       "       0.21439999, 0.25727999, 0.30015999, 0.34303999, 0.42879999,\n",
       "       0.51455998, 0.60031998, 0.68607998, 0.85759997])"
      ]
     },
     "execution_count": 37,
     "metadata": {},
     "output_type": "execute_result"
    }
   ],
   "source": [
    "taus"
   ]
  },
  {
   "cell_type": "code",
   "execution_count": 45,
   "metadata": {},
   "outputs": [
    {
     "data": {
      "text/plain": [
       "array([0.00162, 0.0025 , 0.00339, 0.00427, 0.00516, 0.00604, 0.00692,\n",
       "       0.00781, 0.00869, 0.00958, 0.01046, 0.01134, 0.01223, 0.01311,\n",
       "       0.014  , 0.01488])"
      ]
     },
     "execution_count": 45,
     "metadata": {},
     "output_type": "execute_result"
    }
   ],
   "source": [
    "qr"
   ]
  },
  {
   "cell_type": "code",
   "execution_count": 40,
   "metadata": {},
   "outputs": [
    {
     "data": {
      "text/plain": [
       "(1.0, 0.00134, 1000)"
      ]
     },
     "execution_count": 40,
     "metadata": {},
     "output_type": "execute_result"
    }
   ],
   "source": [
    "att, exp, N"
   ]
  },
  {
   "cell_type": "code",
   "execution_count": 39,
   "metadata": {},
   "outputs": [
    {
     "data": {
      "text/plain": [
       "((34, 16), (995, 995, 16))"
      ]
     },
     "execution_count": 39,
     "metadata": {},
     "output_type": "execute_result"
    }
   ],
   "source": [
    "g2.shape, g12.shape"
   ]
  },
  {
   "cell_type": "code",
   "execution_count": null,
   "metadata": {},
   "outputs": [],
   "source": []
  },
  {
   "cell_type": "markdown",
   "metadata": {},
   "source": [
    "## Some note\n",
    "* One time: the taus is the time delay (the x-axis for g2 plot in the PDF report) \n",
    "* Two time: We take 1000 frames for each time sereis, but ignore the five frames in the data analysis\n",
    "  this the reason that g12 gives a 995X995 shape for each q\n",
    "  The x,y label for two-time will be exp*995\n",
    "\n",
    "\n",
    "\n",
    "\n"
   ]
  },
  {
   "cell_type": "markdown",
   "metadata": {},
   "source": [
    "# Uncompress the tar.xz file"
   ]
  },
  {
   "cell_type": "markdown",
   "metadata": {},
   "source": [
    "* In the linux system (two step)\n",
    "    * xz -d       X.tar.xz\n",
    "    * tar -xvf    X.tar"
   ]
  },
  {
   "cell_type": "code",
   "execution_count": null,
   "metadata": {},
   "outputs": [],
   "source": []
  },
  {
   "cell_type": "markdown",
   "metadata": {},
   "source": [
    "# The End!"
   ]
  }
 ],
 "metadata": {
  "kernelspec": {
   "display_name": "Python 3",
   "language": "python",
   "name": "python3"
  },
  "language_info": {
   "codemirror_mode": {
    "name": "ipython",
    "version": 3
   },
   "file_extension": ".py",
   "mimetype": "text/x-python",
   "name": "python",
   "nbconvert_exporter": "python",
   "pygments_lexer": "ipython3",
   "version": "3.7.3"
  }
 },
 "nbformat": 4,
 "nbformat_minor": 2
}
